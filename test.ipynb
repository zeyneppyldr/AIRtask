{
 "cells": [
  {
   "cell_type": "code",
   "execution_count": 13,
   "id": "d7dc37fe-8f25-4d98-8b7d-c7e422c527b0",
   "metadata": {},
   "outputs": [],
   "source": [
    "import pandas as pd\n",
    "import numpy as np\n",
    "import seaborn as sns"
   ]
  },
  {
   "cell_type": "code",
   "execution_count": 12,
   "metadata": {},
   "outputs": [],
   "source": [
    "df = sns.load_dataset('planets')"
   ]
  },
  {
   "cell_type": "markdown",
   "metadata": {},
   "source": [
    "### Print/ Display the first 5 rows of dataframe"
   ]
  },
  {
   "cell_type": "code",
   "execution_count": null,
   "id": "f57c2abf-fa5a-4b72-953f-3e63422dcdde",
   "metadata": {},
   "outputs": [],
   "source": [
    "import seaborn as sns\n",
    "df = sns.load_dataset('planets')\n",
    "print(df.head())\n"
   ]
  },
  {
   "cell_type": "markdown",
   "metadata": {},
   "source": [
    "### Print/ Display the last 5 rows of dataframe"
   ]
  },
  {
   "cell_type": "code",
   "execution_count": null,
   "id": "4c27adad-ccd9-4871-8d81-dcc11c742dae",
   "metadata": {},
   "outputs": [],
   "source": [
    "import seaborn as sns\n",
    "df = sns.load_dataset('planets')\n",
    "print(df.tail())"
   ]
  },
  {
   "cell_type": "markdown",
   "metadata": {},
   "source": [
    "### How many unique methods are there?"
   ]
  },
  {
   "cell_type": "code",
   "execution_count": null,
   "metadata": {},
   "outputs": [],
   "source": [
    "import seaborn as sns\n",
    "\n",
    "df = sns.load_dataset('planets')\n",
    "methods_and_attributes = dir(df)\n",
    "unique_methods = set(method for method in methods_and_attributes if callable(getattr(df, method)))\n",
    "\n",
    "print(\"Number of unique methods in the DataFrame:\", len(unique_methods))\n"
   ]
  },
  {
   "cell_type": "markdown",
   "metadata": {},
   "source": [
    "### What is the number of data collected in each year?"
   ]
  },
  {
   "cell_type": "code",
   "execution_count": null,
   "metadata": {},
   "outputs": [],
   "source": [
    "\n",
    "import seaborn as sns\n",
    "import pandas as pd\n",
    "df = sns.load_dataset('planets')\n",
    "data_per_year = df['year'].value_counts().sort_index()\n",
    "print(data_per_year)\n"
   ]
  },
  {
   "cell_type": "markdown",
   "metadata": {},
   "source": [
    "### Which columns have missing values and how many?"
   ]
  },
  {
   "cell_type": "code",
   "execution_count": null,
   "metadata": {},
   "outputs": [],
   "source": [
    "import seaborn as sns\n",
    "\n",
    "df = sns.load_dataset('planets')\n",
    "missingValues = df.isnull().sum()\n",
    "print(\"Columns with Missing Values:\")\n",
    "print(missingValues[missingValues > 0])\n",
    "\n"
   ]
  },
  {
   "cell_type": "markdown",
   "metadata": {},
   "source": [
    "### Write docstring for the function below."
   ]
  },
  {
   "cell_type": "code",
   "execution_count": 7,
   "metadata": {},
   "outputs": [],
   "source": [
    "def do_something(x, y, z):\n",
    "    \"\"\"\n",
    "    Calculate the expression given with the given numbers.\n",
    "    \n",
    "    Parameters:\n",
    "    x (float): The first number.\n",
    "    y (float): The second number.\n",
    "    z (float): The third number.\n",
    "\n",
    "    Returns:\n",
    "    Float: The sum of  1/x, 1/y, and 1/z and taking the reciprocal of the sum.\n",
    "    Note: If x,y,z are equal to zero ,the result gives an error.\n",
    "    \"\"\"   \n",
    "\n",
    "    result = 1 / x + 1 / y + 1 / z\n",
    "\n",
    "    return 1 / result"
   ]
  },
  {
   "cell_type": "markdown",
   "metadata": {},
   "source": [
    "### Get (print) the docstring of the function defined above."
   ]
  },
  {
   "cell_type": "code",
   "execution_count": null,
   "metadata": {},
   "outputs": [],
   "source": [
    "\n",
    "def do_something(x, y, z):\n",
    "    result= 1 / x + 1 / y + 1 / z\n",
    "    return 1 / result\n",
    "values = (3,7,12)\n",
    "result= do_something(*values)\n",
    "\n",
    "print(\"Result:\", result)  "
   ]
  },
  {
   "cell_type": "markdown",
   "metadata": {},
   "source": [
    "### Call do_something function for the (11,13,15) values and save it as result"
   ]
  },
  {
   "cell_type": "code",
   "execution_count": null,
   "metadata": {},
   "outputs": [],
   "source": [
    "def do_something(a, b, c):\n",
    "   product = a * b * c\n",
    "   return product\n",
    "values = (11, 13, 15)\n",
    "product= do_something(*values)\n",
    "\n",
    "print(\"Result:\", product)"
   ]
  },
  {
   "cell_type": "markdown",
   "metadata": {},
   "source": [
    "### In the variable 's' containing a sentence, extract the word using result defined above as index"
   ]
  },
  {
   "cell_type": "code",
   "execution_count": null,
   "metadata": {},
   "outputs": [],
   "source": [
    "s = \"I love Machine Learning and Deep Learning\"\n",
    "result_as_string = \"4\"\n",
    "index = int(result_as_string)\n",
    "words = s.split()\n",
    "if 0 <= index < len(words):\n",
    "    result = words[index]\n",
    "    print(\"Word at index {}: {}\".format(index, result))\n",
    "else:\n",
    "    print(\"Invalid index\")\n"
   ]
  },
  {
   "cell_type": "markdown",
   "metadata": {},
   "source": [
    "### Sort the given array below, do not use built in functions. All sorting methods are allowed."
   ]
  },
  {
   "cell_type": "code",
   "execution_count": null,
   "metadata": {},
   "outputs": [],
   "source": [
    "import random\n",
    "\n",
    "arr = [random.randint(1, 100) for i in range(10)]\n",
    "\n",
    "def bubble_sort(arr):\n",
    "    n = len(arr)\n",
    "\n",
    "    for i in range(n):\n",
    "        for j in range(0, n-i-1):\n",
    "           if arr[j] > arr[j+1]:\n",
    "            arr[j], arr[j+1] = arr[j+1], arr[j]\n",
    "\n",
    "print(\"Unsorted array:\", arr)\n",
    "bubble_sort(arr)\n",
    "print(\"Sorted array:\", arr)"
   ]
  },
  {
   "cell_type": "markdown",
   "metadata": {},
   "source": [
    "### define a recursive function to calculate input numbers factorial named factorial"
   ]
  },
  {
   "cell_type": "code",
   "execution_count": null,
   "metadata": {},
   "outputs": [],
   "source": [
    "def factorial(n):\n",
    "  \n",
    "    if n == 0 or n == 1:\n",
    "        return 1\n",
    "    else:\n",
    "       \n",
    "        return n * factorial(n - 1)\n",
    "\n",
    "number = 4\n",
    "result = factorial(number)\n",
    "print(f\"The factorial of {number} is {result}\")\n"
   ]
  },
  {
   "cell_type": "markdown",
   "metadata": {},
   "source": [
    "### define a function to merge the given arrays and calculate the median named twoMedian"
   ]
  },
  {
   "cell_type": "code",
   "execution_count": null,
   "metadata": {},
   "outputs": [],
   "source": [
    "def twoMedian(arr1, arr2):\n",
    "    mergedArray = sorted(arr1 + arr2)\n",
    "    length = len(mergedArray)\n",
    "    if length % 2 == 0:\n",
    "      \n",
    "        mid1 = mergedArray[length // 2 - 1]\n",
    "        mid2 = mergedArray[length // 2]\n",
    "        median = (mid1 + mid2) / 2\n",
    "    else:\n",
    "        \n",
    "        median = mergedArray[length // 2]\n",
    "\n",
    "    return median\n",
    "\n",
    "\n",
    "arr1 = [3,77,45]\n",
    "arr2 = [5,-1,12]\n",
    "result = twoMedian(arr1, arr2)\n",
    "print(\"Merged Array:\", sorted(arr1 + arr2))\n",
    "print(\"Median:\", result)\n"
   ]
  }
 ],
 "metadata": {
  "kernelspec": {
   "display_name": "Python 3 (ipykernel)",
   "language": "python",
   "name": "python3"
  },
  "language_info": {
   "codemirror_mode": {
    "name": "ipython",
    "version": 3
   },
   "file_extension": ".py",
   "mimetype": "text/x-python",
   "name": "python",
   "nbconvert_exporter": "python",
   "pygments_lexer": "ipython3",
   "version": "3.10.0"
  }
 },
 "nbformat": 4,
 "nbformat_minor": 5
}
